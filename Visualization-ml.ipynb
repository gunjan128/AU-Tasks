{
 "cells": [
  {
   "cell_type": "code",
   "execution_count": 20,
   "id": "cc61966f-d8cd-43d1-bc2c-8c799bc8209c",
   "metadata": {},
   "outputs": [],
   "source": [
    "import numpy as np\n",
    "import pandas as pd\n",
    "import matplotlib.pyplot as plt\n",
    "import seaborn as sns\n"
   ]
  },
  {
   "cell_type": "code",
   "execution_count": 32,
   "id": "7fd7ee4e-1bc8-42f3-a1e3-f960b73068b1",
   "metadata": {},
   "outputs": [],
   "source": [
    "who = pd.read_csv('WHO_time_series.csv', date_format='%Y-%m-%d')\n",
    "dy=pd.read_csv('day.csv')\n"
   ]
  },
  {
   "cell_type": "code",
   "execution_count": 33,
   "id": "682c204e-7458-4f60-a553-5d2c6dc05db4",
   "metadata": {},
   "outputs": [
    {
     "data": {
      "text/html": [
       "<div>\n",
       "<style scoped>\n",
       "    .dataframe tbody tr th:only-of-type {\n",
       "        vertical-align: middle;\n",
       "    }\n",
       "\n",
       "    .dataframe tbody tr th {\n",
       "        vertical-align: top;\n",
       "    }\n",
       "\n",
       "    .dataframe thead th {\n",
       "        text-align: right;\n",
       "    }\n",
       "</style>\n",
       "<table border=\"1\" class=\"dataframe\">\n",
       "  <thead>\n",
       "    <tr style=\"text-align: right;\">\n",
       "      <th></th>\n",
       "      <th>Date_reported</th>\n",
       "      <th>Country</th>\n",
       "      <th>New_cases</th>\n",
       "      <th>Cumulative_cases</th>\n",
       "      <th>New_deaths</th>\n",
       "      <th>Cumulative_deaths</th>\n",
       "    </tr>\n",
       "  </thead>\n",
       "  <tbody>\n",
       "    <tr>\n",
       "      <th>0</th>\n",
       "      <td>2020-01-04</td>\n",
       "      <td>China</td>\n",
       "      <td>1</td>\n",
       "      <td>1</td>\n",
       "      <td>0</td>\n",
       "      <td>0</td>\n",
       "    </tr>\n",
       "    <tr>\n",
       "      <th>1</th>\n",
       "      <td>2020-01-05</td>\n",
       "      <td>China</td>\n",
       "      <td>0</td>\n",
       "      <td>1</td>\n",
       "      <td>0</td>\n",
       "      <td>0</td>\n",
       "    </tr>\n",
       "  </tbody>\n",
       "</table>\n",
       "</div>"
      ],
      "text/plain": [
       "  Date_reported Country  New_cases  Cumulative_cases  New_deaths  \\\n",
       "0    2020-01-04   China          1                 1           0   \n",
       "1    2020-01-05   China          0                 1           0   \n",
       "\n",
       "   Cumulative_deaths  \n",
       "0                  0  \n",
       "1                  0  "
      ]
     },
     "execution_count": 33,
     "metadata": {},
     "output_type": "execute_result"
    }
   ],
   "source": [
    "who.head(2)"
   ]
  },
  {
   "cell_type": "code",
   "execution_count": 34,
   "id": "524bcab9-7155-4e4b-81a8-d0bd1e189a22",
   "metadata": {},
   "outputs": [
    {
     "data": {
      "text/html": [
       "<div>\n",
       "<style scoped>\n",
       "    .dataframe tbody tr th:only-of-type {\n",
       "        vertical-align: middle;\n",
       "    }\n",
       "\n",
       "    .dataframe tbody tr th {\n",
       "        vertical-align: top;\n",
       "    }\n",
       "\n",
       "    .dataframe thead th {\n",
       "        text-align: right;\n",
       "    }\n",
       "</style>\n",
       "<table border=\"1\" class=\"dataframe\">\n",
       "  <thead>\n",
       "    <tr style=\"text-align: right;\">\n",
       "      <th></th>\n",
       "      <th>instant</th>\n",
       "      <th>dteday</th>\n",
       "      <th>season</th>\n",
       "      <th>yr</th>\n",
       "      <th>mnth</th>\n",
       "      <th>holiday</th>\n",
       "      <th>weekday</th>\n",
       "      <th>workingday</th>\n",
       "      <th>weathersit</th>\n",
       "      <th>temp</th>\n",
       "      <th>atemp</th>\n",
       "      <th>hum</th>\n",
       "      <th>windspeed</th>\n",
       "      <th>casual</th>\n",
       "      <th>registered</th>\n",
       "      <th>cnt</th>\n",
       "    </tr>\n",
       "  </thead>\n",
       "  <tbody>\n",
       "    <tr>\n",
       "      <th>0</th>\n",
       "      <td>1</td>\n",
       "      <td>2011-01-01</td>\n",
       "      <td>1</td>\n",
       "      <td>0</td>\n",
       "      <td>1</td>\n",
       "      <td>0</td>\n",
       "      <td>6</td>\n",
       "      <td>0</td>\n",
       "      <td>2</td>\n",
       "      <td>0.344167</td>\n",
       "      <td>0.363625</td>\n",
       "      <td>0.805833</td>\n",
       "      <td>0.160446</td>\n",
       "      <td>331</td>\n",
       "      <td>654</td>\n",
       "      <td>985</td>\n",
       "    </tr>\n",
       "    <tr>\n",
       "      <th>1</th>\n",
       "      <td>2</td>\n",
       "      <td>2011-01-02</td>\n",
       "      <td>1</td>\n",
       "      <td>0</td>\n",
       "      <td>1</td>\n",
       "      <td>0</td>\n",
       "      <td>0</td>\n",
       "      <td>0</td>\n",
       "      <td>2</td>\n",
       "      <td>0.363478</td>\n",
       "      <td>0.353739</td>\n",
       "      <td>0.696087</td>\n",
       "      <td>0.248539</td>\n",
       "      <td>131</td>\n",
       "      <td>670</td>\n",
       "      <td>801</td>\n",
       "    </tr>\n",
       "  </tbody>\n",
       "</table>\n",
       "</div>"
      ],
      "text/plain": [
       "   instant      dteday  season  yr  mnth  holiday  weekday  workingday  \\\n",
       "0        1  2011-01-01       1   0     1        0        6           0   \n",
       "1        2  2011-01-02       1   0     1        0        0           0   \n",
       "\n",
       "   weathersit      temp     atemp       hum  windspeed  casual  registered  \\\n",
       "0           2  0.344167  0.363625  0.805833   0.160446     331         654   \n",
       "1           2  0.363478  0.353739  0.696087   0.248539     131         670   \n",
       "\n",
       "   cnt  \n",
       "0  985  \n",
       "1  801  "
      ]
     },
     "execution_count": 34,
     "metadata": {},
     "output_type": "execute_result"
    }
   ],
   "source": [
    "dy.head(2)"
   ]
  },
  {
   "cell_type": "code",
   "execution_count": 35,
   "id": "ce463093-6bae-4ee8-99cb-dc0956c595ad",
   "metadata": {
    "scrolled": true
   },
   "outputs": [
    {
     "data": {
      "text/plain": [
       "array([1, 2, 3, 4])"
      ]
     },
     "execution_count": 35,
     "metadata": {},
     "output_type": "execute_result"
    }
   ],
   "source": [
    "dy['season'].unique()"
   ]
  },
  {
   "cell_type": "code",
   "execution_count": 36,
   "id": "b84fc9ea-607e-4937-a5e8-c6bbc75b00f5",
   "metadata": {},
   "outputs": [
    {
     "data": {
      "text/plain": [
       "dtype('int64')"
      ]
     },
     "execution_count": 36,
     "metadata": {},
     "output_type": "execute_result"
    }
   ],
   "source": [
    "dy['season'].dtype"
   ]
  },
  {
   "cell_type": "code",
   "execution_count": 37,
   "id": "6cdcde5e-7b46-44ee-99e8-a2e84b624fab",
   "metadata": {},
   "outputs": [],
   "source": [
    "# convet categorcial\n",
    "dy['season']=dy['season'].astype('category')"
   ]
  },
  {
   "cell_type": "code",
   "execution_count": 38,
   "id": "123fba3b-0242-4ccd-8e5c-76647770a6ed",
   "metadata": {},
   "outputs": [
    {
     "data": {
      "text/plain": [
       "CategoricalDtype(categories=[1, 2, 3, 4], ordered=False, categories_dtype=int64)"
      ]
     },
     "execution_count": 38,
     "metadata": {},
     "output_type": "execute_result"
    }
   ],
   "source": [
    "dy['season'].dtype"
   ]
  },
  {
   "cell_type": "code",
   "execution_count": 39,
   "id": "6dcbb77d-6a50-4c01-8f38-44be8d1f1f88",
   "metadata": {},
   "outputs": [
    {
     "data": {
      "text/plain": [
       "array([0, 1])"
      ]
     },
     "execution_count": 39,
     "metadata": {},
     "output_type": "execute_result"
    }
   ],
   "source": [
    "dy['yr'].unique()"
   ]
  },
  {
   "cell_type": "code",
   "execution_count": 40,
   "id": "fab7fe80-0d10-4ab1-84c7-f138d52fd55a",
   "metadata": {},
   "outputs": [
    {
     "name": "stderr",
     "output_type": "stream",
     "text": [
      "C:\\Users\\sunil kumar\\AppData\\Local\\Temp\\ipykernel_13188\\1590223522.py:1: FutureWarning: The default of observed=False is deprecated and will be changed to True in a future version of pandas. Pass observed=False to retain current behavior or observed=True to adopt the future default and silence this warning.\n",
      "  dy.groupby('season')['casual'].plot(kind='box')\n"
     ]
    },
    {
     "data": {
      "image/png": "[encoded data removed]",
      "text/plain": [
       "<Figure size 640x480 with 1 Axes>"
      ]
     },
     "metadata": {},
     "output_type": "display_data"
    }
   ],
   "source": [
    "dy.groupby('season')['casual'].plot(kind='box')\n",
    "plt.show()"
   ]
  },
  {
   "cell_type": "code",
   "execution_count": 41,
   "id": "d7b2251c-e790-41c3-b424-37646ad1822a",
   "metadata": {},
   "outputs": [
    {
     "data": {
      "text/plain": [
       "<Axes: xlabel='season', ylabel='casual'>"
      ]
     },
     "execution_count": 41,
     "metadata": {},
     "output_type": "execute_result"
    },
    {
     "data": {
      "image/png": "[encoded data removed]",
      "text/plain": [
       "<Figure size 640x480 with 1 Axes>"
      ]
     },
     "metadata": {},
     "output_type": "display_data"
    }
   ],
   "source": [
    "\n",
    "sns.boxplot(x='season', y='casual', data=dy)\n"
   ]
  },
  {
   "cell_type": "code",
   "execution_count": null,
   "id": "45c3f8be-3e87-458f-a290-81c46ef9f4fe",
   "metadata": {},
   "outputs": [],
   "source": []
  },
  {
   "cell_type": "markdown",
   "id": "756564fa-8ef7-4c77-88c3-3fd4ddf0e043",
   "metadata": {},
   "source": [
    "### Matplot lib - pyplot (- two object - figure - canvas(graps where drow ), axis - "
   ]
  },
  {
   "cell_type": "code",
   "execution_count": null,
   "id": "8fb56b83-7e7c-452f-8eaf-e63938e0a5b5",
   "metadata": {},
   "outputs": [],
   "source": []
  },
  {
   "cell_type": "code",
   "execution_count": 42,
   "id": "a8deac81-38c0-4ed6-a0f0-71527229c3c1",
   "metadata": {},
   "outputs": [
    {
     "data": {
      "text/html": [
       "<div>\n",
       "<style scoped>\n",
       "    .dataframe tbody tr th:only-of-type {\n",
       "        vertical-align: middle;\n",
       "    }\n",
       "\n",
       "    .dataframe tbody tr th {\n",
       "        vertical-align: top;\n",
       "    }\n",
       "\n",
       "    .dataframe thead th {\n",
       "        text-align: right;\n",
       "    }\n",
       "</style>\n",
       "<table border=\"1\" class=\"dataframe\">\n",
       "  <thead>\n",
       "    <tr style=\"text-align: right;\">\n",
       "      <th></th>\n",
       "      <th>Date_reported</th>\n",
       "      <th>Country</th>\n",
       "      <th>New_cases</th>\n",
       "      <th>Cumulative_cases</th>\n",
       "      <th>New_deaths</th>\n",
       "      <th>Cumulative_deaths</th>\n",
       "    </tr>\n",
       "  </thead>\n",
       "  <tbody>\n",
       "    <tr>\n",
       "      <th>0</th>\n",
       "      <td>2020-01-04</td>\n",
       "      <td>China</td>\n",
       "      <td>1</td>\n",
       "      <td>1</td>\n",
       "      <td>0</td>\n",
       "      <td>0</td>\n",
       "    </tr>\n",
       "    <tr>\n",
       "      <th>1</th>\n",
       "      <td>2020-01-05</td>\n",
       "      <td>China</td>\n",
       "      <td>0</td>\n",
       "      <td>1</td>\n",
       "      <td>0</td>\n",
       "      <td>0</td>\n",
       "    </tr>\n",
       "    <tr>\n",
       "      <th>2</th>\n",
       "      <td>2020-01-06</td>\n",
       "      <td>China</td>\n",
       "      <td>3</td>\n",
       "      <td>4</td>\n",
       "      <td>0</td>\n",
       "      <td>0</td>\n",
       "    </tr>\n",
       "    <tr>\n",
       "      <th>3</th>\n",
       "      <td>2020-01-07</td>\n",
       "      <td>China</td>\n",
       "      <td>0</td>\n",
       "      <td>4</td>\n",
       "      <td>0</td>\n",
       "      <td>0</td>\n",
       "    </tr>\n",
       "    <tr>\n",
       "      <th>4</th>\n",
       "      <td>2020-01-08</td>\n",
       "      <td>China</td>\n",
       "      <td>0</td>\n",
       "      <td>4</td>\n",
       "      <td>0</td>\n",
       "      <td>0</td>\n",
       "    </tr>\n",
       "  </tbody>\n",
       "</table>\n",
       "</div>"
      ],
      "text/plain": [
       "  Date_reported Country  New_cases  Cumulative_cases  New_deaths  \\\n",
       "0    2020-01-04   China          1                 1           0   \n",
       "1    2020-01-05   China          0                 1           0   \n",
       "2    2020-01-06   China          3                 4           0   \n",
       "3    2020-01-07   China          0                 4           0   \n",
       "4    2020-01-08   China          0                 4           0   \n",
       "\n",
       "   Cumulative_deaths  \n",
       "0                  0  \n",
       "1                  0  \n",
       "2                  0  \n",
       "3                  0  \n",
       "4                  0  "
      ]
     },
     "execution_count": 42,
     "metadata": {},
     "output_type": "execute_result"
    }
   ],
   "source": [
    "who.head()"
   ]
  },
  {
   "cell_type": "code",
   "execution_count": 43,
   "id": "f705dc8c-28cd-4497-8200-b3ee1ab9a16e",
   "metadata": {},
   "outputs": [
    {
     "data": {
      "text/plain": [
       "(31876, 6)"
      ]
     },
     "execution_count": 43,
     "metadata": {},
     "output_type": "execute_result"
    }
   ],
   "source": [
    "who.shape"
   ]
  },
  {
   "cell_type": "markdown",
   "id": "5fe5092b-7d9c-4e92-967f-d33ce0c4294e",
   "metadata": {},
   "source": [
    "Date_report and Cumulative_case between "
   ]
  },
  {
   "cell_type": "code",
   "execution_count": 44,
   "id": "41bd859c-6d53-4cfc-b11c-1895893748eb",
   "metadata": {},
   "outputs": [
    {
     "data": {
      "image/png": "[encoded data removed]",
      "text/plain": [
       "<Figure size 640x480 with 1 Axes>"
      ]
     },
     "metadata": {},
     "output_type": "display_data"
    }
   ],
   "source": [
    "plt.plot(who['Date_reported'],who['Cumulative_cases'])\n",
    "plt.size=24\n"
   ]
  },
  {
   "cell_type": "code",
   "execution_count": 53,
   "id": "4818df37-481c-4e95-a14e-cf5fc33a5f96",
   "metadata": {},
   "outputs": [],
   "source": [
    "who_india=who[who['Country']=='India']\n",
    "who_china=who[who['Country']=='China']\n",
    "# who_pak=who[who['Country']=='pakisthan']\n"
   ]
  },
  {
   "cell_type": "code",
   "execution_count": 55,
   "id": "4369738c-a205-4fe0-b671-5955a762016f",
   "metadata": {},
   "outputs": [
    {
     "data": {
      "image/png": "[encoded data removed]",
      "text/plain": [
       "<Figure size 640x480 with 1 Axes>"
      ]
     },
     "metadata": {},
     "output_type": "display_data"
    }
   ],
   "source": [
    "plt.plot(who_india['Date_reported'],who_india['Cumulative_cases'],color='green',label='India')\n",
    "plt.plot(who_china['Date_reported'],who_china['Cumulative_cases'],color='red',label='China')\n",
    "plt.legend()\n",
    "plt.title(\"India Vs China \")\n",
    "plt.xlabel(\"Date \")\n",
    "plt.ylabel(\"Cumulative_cases\")\n",
    "plt.show()"
   ]
  },
  {
   "cell_type": "code",
   "execution_count": null,
   "id": "a04f7b9f-9213-4587-8430-6882170a5f3f",
   "metadata": {},
   "outputs": [],
   "source": []
  },
  {
   "cell_type": "code",
   "execution_count": null,
   "id": "6bd5d87f-9529-49aa-9b51-24a3e74aa955",
   "metadata": {},
   "outputs": [],
   "source": []
  }
 ],
 "metadata": {
  "kernelspec": {
   "display_name": "Python 3 (ipykernel)",
   "language": "python",
   "name": "python3"
  },
  "language_info": {
   "codemirror_mode": {
    "name": "ipython",
    "version": 3
   },
   "file_extension": ".py",
   "mimetype": "text/x-python",
   "name": "python",
   "nbconvert_exporter": "python",
   "pygments_lexer": "ipython3",
   "version": "3.12.5"
  }
 },
 "nbformat": 4,
 "nbformat_minor": 5
}
