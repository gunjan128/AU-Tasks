{
 "cells": [
  {
   "cell_type": "code",
   "execution_count": 44,
   "id": "e8792042-369b-4570-a8d4-75f6c620727a",
   "metadata": {},
   "outputs": [],
   "source": [
    "import numpy as np\n",
    "import pandas as pd\n",
    "import matplotlib.pyplot as plt\n",
    "import seaborn as sns\n"
   ]
  },
  {
   "cell_type": "code",
   "execution_count": 45,
   "id": "97c85801-8246-4cf7-b9c9-2da8c237b6b0",
   "metadata": {},
   "outputs": [],
   "source": [
    "df=pd.read_csv('subscription_prediction.csv')"
   ]
  },
  {
   "cell_type": "code",
   "execution_count": 46,
   "id": "0e29d975-0b56-4189-87f6-cefe5fb85905",
   "metadata": {},
   "outputs": [
    {
     "data": {
      "text/html": [
       "<div>\n",
       "<style scoped>\n",
       "    .dataframe tbody tr th:only-of-type {\n",
       "        vertical-align: middle;\n",
       "    }\n",
       "\n",
       "    .dataframe tbody tr th {\n",
       "        vertical-align: top;\n",
       "    }\n",
       "\n",
       "    .dataframe thead th {\n",
       "        text-align: right;\n",
       "    }\n",
       "</style>\n",
       "<table border=\"1\" class=\"dataframe\">\n",
       "  <thead>\n",
       "    <tr style=\"text-align: right;\">\n",
       "      <th></th>\n",
       "      <th>age</th>\n",
       "      <th>job</th>\n",
       "      <th>marital</th>\n",
       "      <th>education</th>\n",
       "      <th>default</th>\n",
       "      <th>housing</th>\n",
       "      <th>loan</th>\n",
       "      <th>contact</th>\n",
       "      <th>month</th>\n",
       "      <th>day_of_week</th>\n",
       "      <th>duration</th>\n",
       "      <th>campaign</th>\n",
       "      <th>pdays</th>\n",
       "      <th>previous</th>\n",
       "      <th>poutcome</th>\n",
       "      <th>emp.var.rate</th>\n",
       "      <th>cons.price.idx</th>\n",
       "      <th>cons.conf.idx</th>\n",
       "      <th>euribor3m</th>\n",
       "      <th>nr.employed</th>\n",
       "      <th>y</th>\n",
       "    </tr>\n",
       "  </thead>\n",
       "  <tbody>\n",
       "    <tr>\n",
       "      <th>0</th>\n",
       "      <td>40</td>\n",
       "      <td>admin.</td>\n",
       "      <td>married</td>\n",
       "      <td>basic.6y</td>\n",
       "      <td>no</td>\n",
       "      <td>no</td>\n",
       "      <td>no</td>\n",
       "      <td>telephone</td>\n",
       "      <td>may</td>\n",
       "      <td>mon</td>\n",
       "      <td>151</td>\n",
       "      <td>1</td>\n",
       "      <td>999</td>\n",
       "      <td>0</td>\n",
       "      <td>nonexistent</td>\n",
       "      <td>1.1</td>\n",
       "      <td>93.994</td>\n",
       "      <td>-36.4</td>\n",
       "      <td>4.857</td>\n",
       "      <td>5191.0</td>\n",
       "      <td>no</td>\n",
       "    </tr>\n",
       "    <tr>\n",
       "      <th>1</th>\n",
       "      <td>56</td>\n",
       "      <td>services</td>\n",
       "      <td>married</td>\n",
       "      <td>high.school</td>\n",
       "      <td>no</td>\n",
       "      <td>no</td>\n",
       "      <td>yes</td>\n",
       "      <td>telephone</td>\n",
       "      <td>may</td>\n",
       "      <td>mon</td>\n",
       "      <td>307</td>\n",
       "      <td>1</td>\n",
       "      <td>999</td>\n",
       "      <td>0</td>\n",
       "      <td>nonexistent</td>\n",
       "      <td>1.1</td>\n",
       "      <td>93.994</td>\n",
       "      <td>-36.4</td>\n",
       "      <td>4.857</td>\n",
       "      <td>5191.0</td>\n",
       "      <td>no</td>\n",
       "    </tr>\n",
       "    <tr>\n",
       "      <th>2</th>\n",
       "      <td>41</td>\n",
       "      <td>blue-collar</td>\n",
       "      <td>married</td>\n",
       "      <td>unknown</td>\n",
       "      <td>unknown</td>\n",
       "      <td>no</td>\n",
       "      <td>no</td>\n",
       "      <td>telephone</td>\n",
       "      <td>may</td>\n",
       "      <td>mon</td>\n",
       "      <td>217</td>\n",
       "      <td>1</td>\n",
       "      <td>999</td>\n",
       "      <td>0</td>\n",
       "      <td>nonexistent</td>\n",
       "      <td>1.1</td>\n",
       "      <td>93.994</td>\n",
       "      <td>-36.4</td>\n",
       "      <td>4.857</td>\n",
       "      <td>5191.0</td>\n",
       "      <td>no</td>\n",
       "    </tr>\n",
       "    <tr>\n",
       "      <th>3</th>\n",
       "      <td>57</td>\n",
       "      <td>housemaid</td>\n",
       "      <td>divorced</td>\n",
       "      <td>basic.4y</td>\n",
       "      <td>no</td>\n",
       "      <td>yes</td>\n",
       "      <td>no</td>\n",
       "      <td>telephone</td>\n",
       "      <td>may</td>\n",
       "      <td>mon</td>\n",
       "      <td>293</td>\n",
       "      <td>1</td>\n",
       "      <td>999</td>\n",
       "      <td>0</td>\n",
       "      <td>nonexistent</td>\n",
       "      <td>1.1</td>\n",
       "      <td>93.994</td>\n",
       "      <td>-36.4</td>\n",
       "      <td>4.857</td>\n",
       "      <td>5191.0</td>\n",
       "      <td>no</td>\n",
       "    </tr>\n",
       "    <tr>\n",
       "      <th>4</th>\n",
       "      <td>39</td>\n",
       "      <td>management</td>\n",
       "      <td>single</td>\n",
       "      <td>basic.9y</td>\n",
       "      <td>unknown</td>\n",
       "      <td>no</td>\n",
       "      <td>no</td>\n",
       "      <td>telephone</td>\n",
       "      <td>may</td>\n",
       "      <td>mon</td>\n",
       "      <td>195</td>\n",
       "      <td>1</td>\n",
       "      <td>999</td>\n",
       "      <td>0</td>\n",
       "      <td>nonexistent</td>\n",
       "      <td>1.1</td>\n",
       "      <td>93.994</td>\n",
       "      <td>-36.4</td>\n",
       "      <td>4.857</td>\n",
       "      <td>5191.0</td>\n",
       "      <td>no</td>\n",
       "    </tr>\n",
       "    <tr>\n",
       "      <th>...</th>\n",
       "      <td>...</td>\n",
       "      <td>...</td>\n",
       "      <td>...</td>\n",
       "      <td>...</td>\n",
       "      <td>...</td>\n",
       "      <td>...</td>\n",
       "      <td>...</td>\n",
       "      <td>...</td>\n",
       "      <td>...</td>\n",
       "      <td>...</td>\n",
       "      <td>...</td>\n",
       "      <td>...</td>\n",
       "      <td>...</td>\n",
       "      <td>...</td>\n",
       "      <td>...</td>\n",
       "      <td>...</td>\n",
       "      <td>...</td>\n",
       "      <td>...</td>\n",
       "      <td>...</td>\n",
       "      <td>...</td>\n",
       "      <td>...</td>\n",
       "    </tr>\n",
       "    <tr>\n",
       "      <th>95</th>\n",
       "      <td>34</td>\n",
       "      <td>services</td>\n",
       "      <td>single</td>\n",
       "      <td>high.school</td>\n",
       "      <td>no</td>\n",
       "      <td>unknown</td>\n",
       "      <td>unknown</td>\n",
       "      <td>telephone</td>\n",
       "      <td>may</td>\n",
       "      <td>tue</td>\n",
       "      <td>147</td>\n",
       "      <td>2</td>\n",
       "      <td>999</td>\n",
       "      <td>0</td>\n",
       "      <td>nonexistent</td>\n",
       "      <td>1.1</td>\n",
       "      <td>93.994</td>\n",
       "      <td>-36.4</td>\n",
       "      <td>4.857</td>\n",
       "      <td>5191.0</td>\n",
       "      <td>no</td>\n",
       "    </tr>\n",
       "    <tr>\n",
       "      <th>96</th>\n",
       "      <td>46</td>\n",
       "      <td>admin.</td>\n",
       "      <td>divorced</td>\n",
       "      <td>university.degree</td>\n",
       "      <td>no</td>\n",
       "      <td>yes</td>\n",
       "      <td>yes</td>\n",
       "      <td>telephone</td>\n",
       "      <td>may</td>\n",
       "      <td>tue</td>\n",
       "      <td>230</td>\n",
       "      <td>1</td>\n",
       "      <td>999</td>\n",
       "      <td>0</td>\n",
       "      <td>nonexistent</td>\n",
       "      <td>1.1</td>\n",
       "      <td>93.994</td>\n",
       "      <td>-36.4</td>\n",
       "      <td>4.857</td>\n",
       "      <td>5191.0</td>\n",
       "      <td>no</td>\n",
       "    </tr>\n",
       "    <tr>\n",
       "      <th>97</th>\n",
       "      <td>30</td>\n",
       "      <td>technician</td>\n",
       "      <td>married</td>\n",
       "      <td>professional.course</td>\n",
       "      <td>no</td>\n",
       "      <td>no</td>\n",
       "      <td>no</td>\n",
       "      <td>telephone</td>\n",
       "      <td>may</td>\n",
       "      <td>tue</td>\n",
       "      <td>252</td>\n",
       "      <td>1</td>\n",
       "      <td>999</td>\n",
       "      <td>0</td>\n",
       "      <td>nonexistent</td>\n",
       "      <td>1.1</td>\n",
       "      <td>93.994</td>\n",
       "      <td>-36.4</td>\n",
       "      <td>4.857</td>\n",
       "      <td>5191.0</td>\n",
       "      <td>no</td>\n",
       "    </tr>\n",
       "    <tr>\n",
       "      <th>98</th>\n",
       "      <td>35</td>\n",
       "      <td>services</td>\n",
       "      <td>single</td>\n",
       "      <td>basic.4y</td>\n",
       "      <td>no</td>\n",
       "      <td>no</td>\n",
       "      <td>no</td>\n",
       "      <td>telephone</td>\n",
       "      <td>may</td>\n",
       "      <td>tue</td>\n",
       "      <td>329</td>\n",
       "      <td>1</td>\n",
       "      <td>999</td>\n",
       "      <td>0</td>\n",
       "      <td>nonexistent</td>\n",
       "      <td>1.1</td>\n",
       "      <td>93.994</td>\n",
       "      <td>-36.4</td>\n",
       "      <td>4.857</td>\n",
       "      <td>5191.0</td>\n",
       "      <td>no</td>\n",
       "    </tr>\n",
       "    <tr>\n",
       "      <th>99</th>\n",
       "      <td>30</td>\n",
       "      <td>admin.</td>\n",
       "      <td>single</td>\n",
       "      <td>university.degree</td>\n",
       "      <td>no</td>\n",
       "      <td>no</td>\n",
       "      <td>no</td>\n",
       "      <td>telephone</td>\n",
       "      <td>may</td>\n",
       "      <td>tue</td>\n",
       "      <td>246</td>\n",
       "      <td>1</td>\n",
       "      <td>999</td>\n",
       "      <td>0</td>\n",
       "      <td>nonexistent</td>\n",
       "      <td>1.1</td>\n",
       "      <td>93.994</td>\n",
       "      <td>-36.4</td>\n",
       "      <td>4.857</td>\n",
       "      <td>5191.0</td>\n",
       "      <td>no</td>\n",
       "    </tr>\n",
       "  </tbody>\n",
       "</table>\n",
       "<p>100 rows × 21 columns</p>\n",
       "</div>"
      ],
      "text/plain": [
       "    age          job   marital            education  default  housing  \\\n",
       "0    40       admin.   married             basic.6y       no       no   \n",
       "1    56     services   married          high.school       no       no   \n",
       "2    41  blue-collar   married              unknown  unknown       no   \n",
       "3    57    housemaid  divorced             basic.4y       no      yes   \n",
       "4    39   management    single             basic.9y  unknown       no   \n",
       "..  ...          ...       ...                  ...      ...      ...   \n",
       "95   34     services    single          high.school       no  unknown   \n",
       "96   46       admin.  divorced    university.degree       no      yes   \n",
       "97   30   technician   married  professional.course       no       no   \n",
       "98   35     services    single             basic.4y       no       no   \n",
       "99   30       admin.    single    university.degree       no       no   \n",
       "\n",
       "       loan    contact month day_of_week  duration  campaign  pdays  previous  \\\n",
       "0        no  telephone   may         mon       151         1    999         0   \n",
       "1       yes  telephone   may         mon       307         1    999         0   \n",
       "2        no  telephone   may         mon       217         1    999         0   \n",
       "3        no  telephone   may         mon       293         1    999         0   \n",
       "4        no  telephone   may         mon       195         1    999         0   \n",
       "..      ...        ...   ...         ...       ...       ...    ...       ...   \n",
       "95  unknown  telephone   may         tue       147         2    999         0   \n",
       "96      yes  telephone   may         tue       230         1    999         0   \n",
       "97       no  telephone   may         tue       252         1    999         0   \n",
       "98       no  telephone   may         tue       329         1    999         0   \n",
       "99       no  telephone   may         tue       246         1    999         0   \n",
       "\n",
       "       poutcome  emp.var.rate  cons.price.idx  cons.conf.idx  euribor3m  \\\n",
       "0   nonexistent           1.1          93.994          -36.4      4.857   \n",
       "1   nonexistent           1.1          93.994          -36.4      4.857   \n",
       "2   nonexistent           1.1          93.994          -36.4      4.857   \n",
       "3   nonexistent           1.1          93.994          -36.4      4.857   \n",
       "4   nonexistent           1.1          93.994          -36.4      4.857   \n",
       "..          ...           ...             ...            ...        ...   \n",
       "95  nonexistent           1.1          93.994          -36.4      4.857   \n",
       "96  nonexistent           1.1          93.994          -36.4      4.857   \n",
       "97  nonexistent           1.1          93.994          -36.4      4.857   \n",
       "98  nonexistent           1.1          93.994          -36.4      4.857   \n",
       "99  nonexistent           1.1          93.994          -36.4      4.857   \n",
       "\n",
       "    nr.employed   y  \n",
       "0        5191.0  no  \n",
       "1        5191.0  no  \n",
       "2        5191.0  no  \n",
       "3        5191.0  no  \n",
       "4        5191.0  no  \n",
       "..          ...  ..  \n",
       "95       5191.0  no  \n",
       "96       5191.0  no  \n",
       "97       5191.0  no  \n",
       "98       5191.0  no  \n",
       "99       5191.0  no  \n",
       "\n",
       "[100 rows x 21 columns]"
      ]
     },
     "execution_count": 46,
     "metadata": {},
     "output_type": "execute_result"
    }
   ],
   "source": [
    "df.head(100)"
   ]
  },
  {
   "cell_type": "code",
   "execution_count": 47,
   "id": "dbe3161d-93f5-4b96-8665-a09a567c31fa",
   "metadata": {},
   "outputs": [
    {
     "data": {
      "text/plain": [
       "(10122, 21)"
      ]
     },
     "execution_count": 47,
     "metadata": {},
     "output_type": "execute_result"
    }
   ],
   "source": [
    "df.shape"
   ]
  },
  {
   "cell_type": "code",
   "execution_count": 48,
   "id": "90057667-2592-49ff-b610-ed43dfa941ea",
   "metadata": {},
   "outputs": [
    {
     "data": {
      "text/plain": [
       "age               0\n",
       "job               0\n",
       "marital           0\n",
       "education         0\n",
       "default           0\n",
       "housing           0\n",
       "loan              0\n",
       "contact           0\n",
       "month             0\n",
       "day_of_week       0\n",
       "duration          0\n",
       "campaign          0\n",
       "pdays             0\n",
       "previous          0\n",
       "poutcome          0\n",
       "emp.var.rate      0\n",
       "cons.price.idx    0\n",
       "cons.conf.idx     0\n",
       "euribor3m         0\n",
       "nr.employed       0\n",
       "y                 0\n",
       "dtype: int64"
      ]
     },
     "execution_count": 48,
     "metadata": {},
     "output_type": "execute_result"
    }
   ],
   "source": [
    "df.isnull().sum()"
   ]
  },
  {
   "cell_type": "code",
   "execution_count": 49,
   "id": "b7381f55-858d-4838-82ab-da7b516cebab",
   "metadata": {},
   "outputs": [],
   "source": [
    "pd.set_option('display.max_columns', None)\n"
   ]
  },
  {
   "cell_type": "code",
   "execution_count": 50,
   "id": "10473118-feed-4460-b33d-4fb4f5af95ed",
   "metadata": {},
   "outputs": [
    {
     "data": {
      "text/plain": [
       "Index(['age', 'job', 'marital', 'education', 'default', 'housing', 'loan',\n",
       "       'contact', 'month', 'day_of_week', 'duration', 'campaign', 'pdays',\n",
       "       'previous', 'poutcome', 'emp.var.rate', 'cons.price.idx',\n",
       "       'cons.conf.idx', 'euribor3m', 'nr.employed', 'y'],\n",
       "      dtype='object')"
      ]
     },
     "execution_count": 50,
     "metadata": {},
     "output_type": "execute_result"
    }
   ],
   "source": [
    "df.columns"
   ]
  },
  {
   "cell_type": "markdown",
   "id": "199c18fb-7618-4b61-9706-5c212c33b982",
   "metadata": {},
   "source": [
    "- age: (numeric)\n",
    "- job: type of job (categorical: 'admin','blue collar','entrepreneur','housemaid','management','retired','self employed','services','student','technician','unemployed','unknown')\n",
    "- marital: marital status (categorical: 'divorced','married','single','unknown'; note: 'divorced' means divorced or widowed)\n",
    "- education: (categorical: 'basic.4y','basic.6y','basic.9y','high.school','illiterate','professional.course','university.degree','unknown')\n",
    "- default: has credit in default? (categorical: 'no','yes','unknown')\n",
    "- housing: has housing loan? (categorical: 'no','yes','unknown')\n",
    "- loan: has personal loan? (categorical: 'no','yes','unknown')\n",
    "- contact: contact communication type (categorical: 'cellular','telephone')\n",
    "- month: last contact month of year (categorical: 'jan', 'feb', 'mar', ..., 'nov', 'dec')\n",
    "- day_of_week: last contact day of the week (categorical: 'mon','tue','wed','thu','fri')\n",
    "- duration: last contact duration, in seconds (numeric).\n",
    "- campaign: number of contacts performed during this campaign and for this client (numeric, includes last contact)\n",
    "- pdays: number of days that passed by after the client was last contacted from a previous campaign (numeric; 999 means client was not previously contacted)\n",
    "- previous: number of contacts performed before this campaign and for this client (numeric)\n",
    "- poutcome: outcome of the previous marketing campaign (categorical: 'failure','nonexistent','success')\n",
    "- emp.var.rate: employment variation rate - quarterly indicator (numeric)\n",
    "- cons.price.idx: consumer price index - monthly indicator (numeric)\n",
    "- cons.conf.idx: consumer confidence index - monthly indicator (numeric)\n",
    "- euribor3m: euribor 3 month rate - daily indicator (numeric)\n",
    "nr.employed: number of employees - quarterly indicator (numeric)"
   ]
  },
  {
   "cell_type": "code",
   "execution_count": 51,
   "id": "2231819e-7e88-40c1-a57b-6a9d4fbf9163",
   "metadata": {},
   "outputs": [
    {
     "data": {
      "text/plain": [
       "loan\n",
       "no         8317\n",
       "yes        1557\n",
       "unknown     248\n",
       "Name: count, dtype: int64"
      ]
     },
     "execution_count": 51,
     "metadata": {},
     "output_type": "execute_result"
    }
   ],
   "source": [
    "df['loan'].value_counts()"
   ]
  },
  {
   "cell_type": "code",
   "execution_count": 52,
   "id": "27df170f-de62-4e61-853c-be733f236188",
   "metadata": {},
   "outputs": [
    {
     "data": {
      "text/plain": [
       "marital\n",
       "married     5864\n",
       "single      3152\n",
       "divorced    1082\n",
       "unknown       24\n",
       "Name: count, dtype: int64"
      ]
     },
     "execution_count": 52,
     "metadata": {},
     "output_type": "execute_result"
    }
   ],
   "source": [
    "df['marital'].value_counts()"
   ]
  },
  {
   "cell_type": "code",
   "execution_count": 53,
   "id": "0ca28481-3695-4773-a930-31f709e0d571",
   "metadata": {},
   "outputs": [
    {
     "data": {
      "text/plain": [
       "array(['admin.', 'services', 'blue-collar', 'housemaid', 'management',\n",
       "       'technician', 'entrepreneur', 'retired', 'student',\n",
       "       'self-employed', 'unknown', 'unemployed'], dtype=object)"
      ]
     },
     "execution_count": 53,
     "metadata": {},
     "output_type": "execute_result"
    }
   ],
   "source": [
    "df['job'].unique()"
   ]
  },
  {
   "cell_type": "code",
   "execution_count": 54,
   "id": "da9ae76f-71e3-49c7-bb8c-38454d18b71c",
   "metadata": {},
   "outputs": [
    {
     "data": {
      "text/plain": [
       "array(['basic.6y', 'high.school', 'unknown', 'basic.4y', 'basic.9y',\n",
       "       'university.degree', 'professional.course', 'illiterate'],\n",
       "      dtype=object)"
      ]
     },
     "execution_count": 54,
     "metadata": {},
     "output_type": "execute_result"
    }
   ],
   "source": [
    "df['education'].unique()"
   ]
  },
  {
   "cell_type": "code",
   "execution_count": 55,
   "id": "fc89cbf1-5416-4f24-8be5-b45698f556d0",
   "metadata": {},
   "outputs": [
    {
     "data": {
      "text/plain": [
       "array(['no', 'unknown'], dtype=object)"
      ]
     },
     "execution_count": 55,
     "metadata": {},
     "output_type": "execute_result"
    }
   ],
   "source": [
    "df['default'].unique()"
   ]
  },
  {
   "cell_type": "code",
   "execution_count": 56,
   "id": "18c111d5-43f1-40a4-88ca-6cca8c038fb9",
   "metadata": {},
   "outputs": [
    {
     "data": {
      "text/plain": [
       "array(['telephone', 'cellular'], dtype=object)"
      ]
     },
     "execution_count": 56,
     "metadata": {},
     "output_type": "execute_result"
    }
   ],
   "source": [
    "df['contact'].unique()"
   ]
  },
  {
   "cell_type": "code",
   "execution_count": 57,
   "id": "dee1bbf8-ebaf-4892-92d1-214904a28f5b",
   "metadata": {},
   "outputs": [
    {
     "data": {
      "text/plain": [
       "array(['no', 'yes', 'unknown'], dtype=object)"
      ]
     },
     "execution_count": 57,
     "metadata": {},
     "output_type": "execute_result"
    }
   ],
   "source": [
    "df['housing'].unique()"
   ]
  },
  {
   "cell_type": "code",
   "execution_count": 58,
   "id": "d606de2f-3700-4b6e-aa13-2bd1ab82536e",
   "metadata": {},
   "outputs": [],
   "source": [
    "# this is the company that is lunch the data"
   ]
  },
  {
   "cell_type": "code",
   "execution_count": 59,
   "id": "daa67abb-ff13-4a25-bcc4-0e2c05926b68",
   "metadata": {},
   "outputs": [
    {
     "data": {
      "text/plain": [
       "array(['may', 'jun', 'jul', 'aug', 'oct', 'nov', 'dec', 'mar', 'apr',\n",
       "       'sep'], dtype=object)"
      ]
     },
     "execution_count": 59,
     "metadata": {},
     "output_type": "execute_result"
    }
   ],
   "source": [
    "df['month'].unique()"
   ]
  },
  {
   "cell_type": "code",
   "execution_count": 60,
   "id": "e43ebfa3-2f9f-4020-a3c8-3806abaea43f",
   "metadata": {},
   "outputs": [
    {
     "data": {
      "text/plain": [
       "array(['mon', 'tue', 'wed', 'thu', 'fri'], dtype=object)"
      ]
     },
     "execution_count": 60,
     "metadata": {},
     "output_type": "execute_result"
    }
   ],
   "source": [
    "df['day_of_week'].unique()"
   ]
  },
  {
   "cell_type": "code",
   "execution_count": 61,
   "id": "bafee22a-558f-4a6e-b09b-ac26fd51f6c2",
   "metadata": {},
   "outputs": [
    {
     "data": {
      "text/plain": [
       "duration\n",
       "2     1543\n",
       "1     1424\n",
       "3     1278\n",
       "4      967\n",
       "5      709\n",
       "0      574\n",
       "6      572\n",
       "7      416\n",
       "8      367\n",
       "9      325\n",
       "10     294\n",
       "11     272\n",
       "12     204\n",
       "13     180\n",
       "14     163\n",
       "15     132\n",
       "16     107\n",
       "17     104\n",
       "18      83\n",
       "20      62\n",
       "19      54\n",
       "22      52\n",
       "21      43\n",
       "24      32\n",
       "25      24\n",
       "23      23\n",
       "26      20\n",
       "28      14\n",
       "27      11\n",
       "30      10\n",
       "32      10\n",
       "33       8\n",
       "34       6\n",
       "31       6\n",
       "41       4\n",
       "40       4\n",
       "44       3\n",
       "29       3\n",
       "36       2\n",
       "60       2\n",
       "35       2\n",
       "38       2\n",
       "51       2\n",
       "37       1\n",
       "53       1\n",
       "43       1\n",
       "46       1\n",
       "69       1\n",
       "39       1\n",
       "54       1\n",
       "48       1\n",
       "63       1\n",
       "Name: count, dtype: int64"
      ]
     },
     "execution_count": 61,
     "metadata": {},
     "output_type": "execute_result"
    }
   ],
   "source": [
    "date=df['duration']//60\n",
    "date.value_counts()"
   ]
  },
  {
   "cell_type": "code",
   "execution_count": 62,
   "id": "a330d374-18c2-4e9c-ac70-b23ef1dcd0e9",
   "metadata": {},
   "outputs": [
    {
     "data": {
      "text/plain": [
       "array([ 1,  2,  3,  4,  5,  7,  6,  9, 12, 23,  8, 11, 16, 20, 19, 39, 10,\n",
       "       42, 15, 26, 28, 32, 13, 24, 17, 14, 22, 29, 30, 18, 41, 31, 35, 21,\n",
       "       27])"
      ]
     },
     "execution_count": 62,
     "metadata": {},
     "output_type": "execute_result"
    }
   ],
   "source": [
    "df['campaign'].unique()"
   ]
  },
  {
   "cell_type": "code",
   "execution_count": 63,
   "id": "98455fa7-ea21-41a6-b10a-aae912f2922f",
   "metadata": {},
   "outputs": [
    {
     "data": {
      "text/plain": [
       "array([999,   6,   4,   5,  10,   7,   1,  11,   9,   2,   0,   3,  12,\n",
       "        13,  14,  15,  16,   8,  21,  18,  22,  25,  26,  17,  27,  19])"
      ]
     },
     "execution_count": 63,
     "metadata": {},
     "output_type": "execute_result"
    }
   ],
   "source": [
    "df['pdays'].unique() # last the previous called "
   ]
  },
  {
   "cell_type": "code",
   "execution_count": 64,
   "id": "4cb3c60a-033e-4d98-af25-7879913d08e7",
   "metadata": {},
   "outputs": [
    {
     "data": {
      "text/plain": [
       "education\n",
       "university.degree      3201\n",
       "high.school            2317\n",
       "professional.course    1325\n",
       "basic.9y               1316\n",
       "basic.4y                989\n",
       "basic.6y                498\n",
       "unknown                 471\n",
       "illiterate                5\n",
       "Name: count, dtype: int64"
      ]
     },
     "execution_count": 64,
     "metadata": {},
     "output_type": "execute_result"
    }
   ],
   "source": [
    "df['education'].value_counts()"
   ]
  },
  {
   "cell_type": "code",
   "execution_count": 65,
   "id": "6fcd5e91-39c5-4a61-a457-74eed0e4732e",
   "metadata": {},
   "outputs": [],
   "source": [
    "# df['y'].apply(map({'Yes':1, 'No':0}))\n",
    "df['y']=df['y'].apply(lambda x :1 if x=='yes' else 0)"
   ]
  },
  {
   "cell_type": "code",
   "execution_count": 66,
   "id": "14163684-9666-456c-a64e-146224fd3e57",
   "metadata": {},
   "outputs": [
    {
     "data": {
      "text/plain": [
       "array([0, 1])"
      ]
     },
     "execution_count": 66,
     "metadata": {},
     "output_type": "execute_result"
    }
   ],
   "source": [
    "df['y'].unique()"
   ]
  },
  {
   "cell_type": "markdown",
   "id": "a98b6d30-38b7-48d9-9a3f-0028be47a4bb",
   "metadata": {},
   "source": [
    "# divided the data in train test-->"
   ]
  },
  {
   "cell_type": "code",
   "execution_count": 67,
   "id": "7a3fd2de-5535-4a61-bf56-7bd14b8647df",
   "metadata": {},
   "outputs": [],
   "source": [
    "# data set , to divide the algorith "
   ]
  },
  {
   "cell_type": "code",
   "execution_count": 68,
   "id": "507c760c-b451-41fa-bec4-fdf82b50ed55",
   "metadata": {},
   "outputs": [],
   "source": [
    "train_data=df.sample(frac=.85,random_state=42)"
   ]
  },
  {
   "cell_type": "code",
   "execution_count": 69,
   "id": "2272169b-ad45-47a5-a01a-f2e679484108",
   "metadata": {},
   "outputs": [
    {
     "data": {
      "text/plain": [
       "(8604, 21)"
      ]
     },
     "execution_count": 69,
     "metadata": {},
     "output_type": "execute_result"
    }
   ],
   "source": [
    "train_data.shape"
   ]
  },
  {
   "cell_type": "code",
   "execution_count": 70,
   "id": "795c964d-d2a7-4bc0-9378-5693472a1e29",
   "metadata": {},
   "outputs": [
    {
     "data": {
      "text/plain": [
       "y\n",
       "0    0.541593\n",
       "1    0.458407\n",
       "Name: proportion, dtype: float64"
      ]
     },
     "execution_count": 70,
     "metadata": {},
     "output_type": "execute_result"
    }
   ],
   "source": [
    "# find the rations of the data\n",
    "df['y'].value_counts(normalize=True)"
   ]
  },
  {
   "cell_type": "code",
   "execution_count": 71,
   "id": "40c95514-c946-45d3-9895-87f2f64dd926",
   "metadata": {},
   "outputs": [
    {
     "data": {
      "text/plain": [
       "y\n",
       "0    0.540679\n",
       "1    0.459321\n",
       "Name: proportion, dtype: float64"
      ]
     },
     "execution_count": 71,
     "metadata": {},
     "output_type": "execute_result"
    }
   ],
   "source": [
    "train_data['y'].value_counts(normalize=True)"
   ]
  },
  {
   "cell_type": "code",
   "execution_count": 72,
   "id": "5566f2df-7c5b-445a-b98a-3e8a3d167715",
   "metadata": {},
   "outputs": [],
   "source": [
    "test_data = df.drop(train_data.index)"
   ]
  },
  {
   "cell_type": "markdown",
   "id": "3dfe89f1-db76-47ec-bc6a-d8984bef635a",
   "metadata": {},
   "source": [
    "## here to find the diffrence the correct or not "
   ]
  },
  {
   "cell_type": "code",
   "execution_count": 73,
   "id": "f0000705-f3c7-4889-8651-be2f759f7eff",
   "metadata": {},
   "outputs": [],
   "source": [
    "X_train = train_data.drop('y',axis=1)\n",
    "y_train= train_data['y']\n",
    "X_test=test_data.drop('y',axis=1)\n",
    "y_test= test_data['y']"
   ]
  },
  {
   "cell_type": "code",
   "execution_count": 74,
   "id": "7a0308ce-0ddd-41fd-89e3-4cbc18b1f94f",
   "metadata": {},
   "outputs": [],
   "source": [
    "# KNN for one feature s\n",
    "#  manhttan distance \n",
    "#  minlowski disance\n",
    "# hamming distance"
   ]
  },
  {
   "cell_type": "code",
   "execution_count": 75,
   "id": "6c3b30cf-3a23-4444-a363-e0cb68fc4a79",
   "metadata": {},
   "outputs": [],
   "source": [
    "from sklearn.neighbors import KNeighborsClassifier\n"
   ]
  },
  {
   "cell_type": "code",
   "execution_count": 76,
   "id": "5873fd33-c795-4ce2-86d4-266f9fcf6268",
   "metadata": {},
   "outputs": [
    {
     "data": {
      "text/plain": [
       "0        40\n",
       "1        56\n",
       "2        41\n",
       "3        57\n",
       "4        39\n",
       "         ..\n",
       "10117    64\n",
       "10118    37\n",
       "10119    73\n",
       "10120    44\n",
       "10121    74\n",
       "Name: age, Length: 10122, dtype: int64"
      ]
     },
     "execution_count": 76,
     "metadata": {},
     "output_type": "execute_result"
    }
   ],
   "source": [
    "df['age']"
   ]
  },
  {
   "cell_type": "code",
   "execution_count": 102,
   "id": "0afeff80-0734-47e9-88dd-b40454e2e189",
   "metadata": {},
   "outputs": [],
   "source": [
    "def Knn(feature, single_row,k): # feature means have the columsn single\n",
    "    diff=df[feature]-single_row[feature]\n",
    "    smallest_k = diff.nsmallest(k)\n",
    "    prediction=y_train[smallest_k.index].mode()[0]\n",
    "    return prediction"
   ]
  },
  {
   "cell_type": "code",
   "execution_count": 103,
   "id": "923d44c8-b8a2-4654-8e05-f578333be1a0",
   "metadata": {},
   "outputs": [
    {
     "data": {
      "text/plain": [
       "np.int64(1)"
      ]
     },
     "execution_count": 103,
     "metadata": {},
     "output_type": "execute_result"
    }
   ],
   "source": [
    "Knn('age',X_train.iloc[101],5)"
   ]
  },
  {
   "cell_type": "code",
   "execution_count": 104,
   "id": "6f687634-cee0-4532-b26c-ca6549a9bdf7",
   "metadata": {},
   "outputs": [],
   "source": [
    "y_predict=X_test.apply(lambda x:Knn('age',x,4),axis=1)"
   ]
  },
  {
   "cell_type": "code",
   "execution_count": 105,
   "id": "14f94a7f-4122-4e12-81c1-f11b66cf43ed",
   "metadata": {},
   "outputs": [
    {
     "data": {
      "text/plain": [
       "np.float64(45.3227931488801)"
      ]
     },
     "execution_count": 105,
     "metadata": {},
     "output_type": "execute_result"
    }
   ],
   "source": [
    "(y_test==y_predict).sum()/len(y_test)*100"
   ]
  },
  {
   "cell_type": "code",
   "execution_count": null,
   "id": "eca6878d-8b39-4655-bf67-a057808fdbe6",
   "metadata": {},
   "outputs": [],
   "source": []
  },
  {
   "cell_type": "code",
   "execution_count": null,
   "id": "fc9b766b-d8f6-40a3-a807-20c95294cfa8",
   "metadata": {},
   "outputs": [],
   "source": []
  }
 ],
 "metadata": {
  "kernelspec": {
   "display_name": "Python 3 (ipykernel)",
   "language": "python",
   "name": "python3"
  },
  "language_info": {
   "codemirror_mode": {
    "name": "ipython",
    "version": 3
   },
   "file_extension": ".py",
   "mimetype": "text/x-python",
   "name": "python",
   "nbconvert_exporter": "python",
   "pygments_lexer": "ipython3",
   "version": "3.12.5"
  }
 },
 "nbformat": 4,
 "nbformat_minor": 5
}
